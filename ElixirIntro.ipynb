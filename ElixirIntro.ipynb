{
 "cells": [
  {
   "cell_type": "markdown",
   "id": "611d5fe0",
   "metadata": {},
   "source": [
    "## How to install Elixir in Jupyter Lab/Notebook\n",
    "This assumes that Jupyter notebook is already installed; if not, `brew install jupyterlab` should do it.\n",
    "1. Install Elixir (`brew install elixir`, will also install Erlang)\n",
    "2. Install `ierl` (download from `https://github.com/filmor/ierl/releases/download/v0.6.0/ierl` and `cp ~/Downloads/ierl /usr/local/bin/ && chmod +x /usr/local/bin/ierl`)\n",
    "3. Install the Elixir Jupyter kernel (`ierl install elixir`)\n",
    "4. Start the notebook (`jupyter notebook`)"
   ]
  },
  {
   "cell_type": "markdown",
   "id": "187d6d68",
   "metadata": {},
   "source": [
    "## What is Elixir?\n",
    "\n",
    "Elixir is a functional, meta-programming-aware language built on top of the Erlang virtual machine."
   ]
  },
  {
   "cell_type": "markdown",
   "id": "95f387f5",
   "metadata": {},
   "source": [
    "## What is Erlang?\n",
    "\n",
    "Erlang is a **soft real-time, highly concurrent, fault-tolerant, distributed functional programming language** and environment. The environment includes the OTP library, which contains much of the functionality of erlang-in-the-large, and the BEAM virtual machine, on which the compiled Erlang code runs. The BEAM virtual machine was designed specifically for Erlang, and supports certain operations natively, such as Tail Call Optimization (TCO), process linking, and concurrency primitives."
   ]
  },
  {
   "cell_type": "markdown",
   "id": "71a8f331",
   "metadata": {},
   "source": [
    "## Why Elixir rather than Erlang?\n",
    "\n",
    "* Arguably more pleasing and readable syntax than Erlang\n",
    "* First-class, very powerful macros similar in capability to those in LISPy languages. In fact, much of the Elixir language is built using macros.\n",
    "* More consistent libraries than Erlang's\n",
    "* Arguably better tooling than Erlang's \n",
    "* Seamless Erlang interoperability (zero-cost ability to call any Erlang functions from Elixir and vice-versa)\n",
    "* It can do everything that Erlang can do and more"
   ]
  },
  {
   "cell_type": "markdown",
   "id": "77820988",
   "metadata": {},
   "source": [
    "## Why Elixir at all?\n",
    "\n",
    "Well... consider a partial **list of its superpowers**, which is a superset of Erlang's.\n",
    "\n",
    "In the following list, \"BEAM\" is the name of the Erlang VM. Where Erlang is mentioned, you can imagine it's Elixir/Erlang, but that's too tedious to write and read, so we just use Erlang here.\n",
    "\n",
    "* A **first-class macro system** that can be used to write DSLs and is already used to provide many Elixir expressions.\n",
    "\n",
    "* **Everything that runs in Erlang is a BEAM process**. The process is created and scheduled (and interrupted) by BEAM, has its own stack and heap, and is incredibly small, quick to create and fast to destroy. Because each process has its own heap, garbage collection occurs on a per-process basis, unlike (say) Java, so there's no stop-the-world GC to interfere with processing.\n",
    "\n",
    "* BEAM itself runs on **multiple processors** (using SMP), and depending on the kind of workload can scale close to linearly as processors are added. Each BEAM OS process thread maps to multiple Erlang processes. **You can literally run a million Erlang processes off a single OS thread** (and this might have happened in some applications before BEAM got SMP capabilities).\n",
    "\n",
    "* **Every BEAM process is completely isolated** (except for message passing) from all other processes, so if it crashes, it will not affect anything outside of itself (unless specifically configured to do so). There is no shared memory, so there are no mutexes, locks, or other synchronization primitives. This makes concurrent programming vastly less complicated. And there are no coroutines, async/await, stuff like that.\n",
    "\n",
    "* **Supervisory framework**. A BEAM process `A` is able to _link_ itself to another BEAM process `B` such that if `A` dies, `B` gets an exit signal from `A`, which will kill `B` (and vice-versa). A process can also trap exit signals to decide whether or not it wants to die or take some recovery action. This feature is the basis of the OTP supervisor framework, which provides Erlang with the ability to create arbitrarily complex supervisory trees that can be configured to restart failed processes automatically and degrade gracefully.\n",
    "\n",
    "* **BEAM processes only communicate with each other using message queues**. Each process automatically gets a message queue when it starts up, and any other process that knows its process ID can send a message to it. This is the basis for Elixir's `GenServer` and other process frameworks. Elixir/Erlang has a `receive` keyword that supports pattern-based selective receive, such that it can decide what kind of message it is looking for and receive only messages that match that pattern, even if there are other non-matching messages in the queue.\n",
    "\n",
    "* **No global variables**.\n",
    "\n",
    "* **Immutable data**.\n",
    "\n",
    "* **Pattern matching**.\n",
    "\n",
    "* **Tail-Call Optimization (TCO)**.\n",
    "\n",
    "* **Hot fixing**: if a function running in a process needs to be modified, in most cases all it takes is to copy the modified module to the execution directory and reload the module using an Erlang/Elixir shell attached to the running system. BEAM will complete the current execution of that function (if it's busy executing), then swap in the code of the new function, _without interrupting the process_.\n",
    "\n",
    "* **Key-value store**: Erlang has a built-in key-value store, `ets` (Erlang Term Storage), which is analogous to Redis but doesn't duplicate its instruction set. `ets` is the closest thing to global in-memory storage that Erlang supports, and can be set up in a variety of ways (for example, read/write for the owner process, read-only for all others).\n",
    "\n",
    "* **Database**: Erlang has a built-in database, Mnesia, which is very useful for storing things like local configuration. It's definitely not a replacement for a full-fledged relational or document database, but has the advantage that it can store Erlang terms without conversion, so it can be very fast."
   ]
  },
  {
   "cell_type": "markdown",
   "id": "a87e50a9",
   "metadata": {},
   "source": [
    "## Let's get going!"
   ]
  },
  {
   "cell_type": "code",
   "execution_count": 1,
   "id": "01dbb800",
   "metadata": {},
   "outputs": [
    {
     "data": {
      "text/plain": [
       "'ABC'"
      ]
     },
     "execution_count": 1,
     "metadata": {},
     "output_type": "execute_result"
    }
   ],
   "source": [
    "# Data types\n",
    "123 # Integer\n",
    "123.45 # Float\n",
    "\"hello\" # String\n",
    "[1, 2, 3] # List\n",
    "{1, 2, 3} # Tuple\n",
    "%{\"first_name\" => \"Ed\", \"last_name\" => \"Fine\"} # Map (i.e. dict)\n",
    ":name # Atom\n",
    "%{first_name: \"Ed\", last_name: \"Fine\"} # Map (i.e. dict) using atoms for keys\n",
    "%{:first_name => \"Ed\", :last_name => \"Fine\"} # Map (i.e. dict)\n",
    "<<65, 66, 67>> # Binary\n",
    "'ABC' = [65, 66, 67] # Character list"
   ]
  },
  {
   "cell_type": "code",
   "execution_count": 2,
   "id": "c2d47911",
   "metadata": {},
   "outputs": [
    {
     "name": "stdout",
     "output_type": "stream",
     "text": [
      "Hello, world!\n"
     ]
    },
    {
     "data": {
      "text/plain": [
       ":ok"
      ]
     },
     "execution_count": 2,
     "metadata": {},
     "output_type": "execute_result"
    }
   ],
   "source": [
    "# Hello, world!\n",
    "IO.puts \"Hello, world!\"  # parens optional"
   ]
  },
  {
   "cell_type": "code",
   "execution_count": 3,
   "id": "af44407c",
   "metadata": {},
   "outputs": [
    {
     "name": "stdout",
     "output_type": "stream",
     "text": [
      "Hello, world!\n"
     ]
    },
    {
     "data": {
      "text/plain": [
       ":ok"
      ]
     },
     "execution_count": 3,
     "metadata": {},
     "output_type": "execute_result"
    }
   ],
   "source": [
    "# Binding (not assignment!)\n",
    "msg = \"Hello, world!\"\n",
    "IO.puts(msg)"
   ]
  },
  {
   "cell_type": "code",
   "execution_count": 4,
   "id": "1ad600f5",
   "metadata": {},
   "outputs": [
    {
     "data": {
      "text/plain": [
       "\"Hello, world!\""
      ]
     },
     "execution_count": 4,
     "metadata": {},
     "output_type": "execute_result"
    }
   ],
   "source": [
    "# Rebinding\n",
    "msg = \"foo\"\n",
    "msg = \"Hello, world!\""
   ]
  },
  {
   "cell_type": "code",
   "execution_count": 5,
   "id": "fea1d29f",
   "metadata": {},
   "outputs": [
    {
     "data": {
      "text/plain": [
       "[{\"Data type\", \"BitString\"}, {\"Byte size\", 13}, {\"Description\", \"This is a string: a UTF-8 encoded binary. It's printed surrounded by\\n\\\"double quotes\\\" because all UTF-8 encoded code points in it are printable.\\n\"}, {\"Raw representation\", \"<<72, 101, 108, 108, 111, 44, 32, 119, 111, 114, 108, 100, 33>>\"}, {\"Reference modules\", \"String, :binary\"}]"
      ]
     },
     "execution_count": 5,
     "metadata": {},
     "output_type": "execute_result"
    }
   ],
   "source": [
    "IEx.Info.info(msg)"
   ]
  },
  {
   "cell_type": "code",
   "execution_count": 5,
   "id": "d093cc86",
   "metadata": {},
   "outputs": [
    {
     "ename": "error",
     "evalue": "no match of right hand side value: \"foo\"",
     "output_type": "error",
     "traceback": [
      "** (MatchError) no match of right hand side value: \"foo\""
     ]
    }
   ],
   "source": [
    "^msg = \"foo\"  # Pinned match without rebinding. This forces a MatchError because msg is already \"Hello, world!\""
   ]
  },
  {
   "cell_type": "code",
   "execution_count": 6,
   "id": "1c670f0b",
   "metadata": {},
   "outputs": [
    {
     "data": {
      "text/plain": [
       "\"Hello, world!\""
      ]
     },
     "execution_count": 6,
     "metadata": {},
     "output_type": "execute_result"
    }
   ],
   "source": [
    "# And to prove it...\n",
    "^msg = \"Hello, world!\""
   ]
  },
  {
   "cell_type": "code",
   "execution_count": 6,
   "id": "1002e23d",
   "metadata": {},
   "outputs": [
    {
     "ename": "error",
     "evalue": "cannot invoke def/2 outside module",
     "output_type": "error",
     "traceback": [
      "** (ArgumentError) cannot invoke def/2 outside module"
     ]
    }
   ],
   "source": [
    "# Define a function\n",
    "def hello do\n",
    "    IO.puts \"Hello, world!\"\n",
    "end\n",
    "hello()"
   ]
  },
  {
   "cell_type": "code",
   "execution_count": 7,
   "id": "a19fad61",
   "metadata": {},
   "outputs": [
    {
     "name": "stdout",
     "output_type": "stream",
     "text": [
      "Hello, world!\n"
     ]
    },
    {
     "data": {
      "text/plain": [
       ":ok"
      ]
     },
     "execution_count": 7,
     "metadata": {},
     "output_type": "execute_result"
    }
   ],
   "source": [
    "# Define the function in a module\n",
    "defmodule Demo do\n",
    "    def hello() do\n",
    "        IO.puts \"Hello, world!\"\n",
    "    end\n",
    "end\n",
    "Demo.hello()"
   ]
  },
  {
   "cell_type": "code",
   "execution_count": 8,
   "id": "5eb397e9",
   "metadata": {},
   "outputs": [
    {
     "data": {
      "text/plain": [
       "\"Hello, world!\""
      ]
     },
     "execution_count": 8,
     "metadata": {},
     "output_type": "execute_result"
    }
   ],
   "source": [
    "defmodule Demo do\n",
    "    def hello, do: IO.puts \"Hello, world!\" # Note 1-line syntax\n",
    "        \n",
    "    @spec hello_str() :: String.t\n",
    "    def hello_str, do: \"Hello, world!\"\n",
    "end\n",
    "Demo.hello_str()"
   ]
  },
  {
   "cell_type": "code",
   "execution_count": 9,
   "id": "5c88a28b",
   "metadata": {},
   "outputs": [
    {
     "data": {
      "text/plain": [
       "{:module, Demo1, <<70, 79, 82, 49, 0, 0, 4, 212, 66, 69, 65, 77, 65, 116, 85, 56, 0, 0, 0, 137, 0, 0, 0, 14, 12, 69, 108, 105, 120, 105, 114, 46, 68, 101, 109, 111, 49, 8, 95, 95, 105, 110, 102, 111, 95, 95, 10, ...>>, {:hello, 0}}"
      ]
     },
     "execution_count": 9,
     "metadata": {},
     "output_type": "execute_result"
    }
   ],
   "source": [
    "defmodule Demo1 do\n",
    "    def(hello, [{:do, \"Hi!\"}])\n",
    "end"
   ]
  },
  {
   "cell_type": "code",
   "execution_count": 10,
   "id": "ffac959a",
   "metadata": {},
   "outputs": [
    {
     "data": {
      "text/plain": [
       "\"Hi!\""
      ]
     },
     "execution_count": 10,
     "metadata": {},
     "output_type": "execute_result"
    }
   ],
   "source": [
    "Demo1.hello()"
   ]
  },
  {
   "cell_type": "code",
   "execution_count": 11,
   "id": "d36ac7d4",
   "metadata": {},
   "outputs": [
    {
     "name": "stdout",
     "output_type": "stream",
     "text": [
      "Hello, world!\n"
     ]
    },
    {
     "data": {
      "text/plain": [
       ":ok"
      ]
     },
     "execution_count": 11,
     "metadata": {},
     "output_type": "execute_result"
    }
   ],
   "source": [
    "# \"Lambda\"\n",
    "hello_fn = fn -> IO.puts(\"Hello, world!\") end  # Define it\n",
    "hello_fn.()  # Call it"
   ]
  },
  {
   "cell_type": "code",
   "execution_count": 12,
   "id": "580052dc",
   "metadata": {},
   "outputs": [
    {
     "name": "stdout",
     "output_type": "stream",
     "text": [
      "Hello, old buddy!\n"
     ]
    },
    {
     "data": {
      "text/plain": [
       ":ok"
      ]
     },
     "execution_count": 12,
     "metadata": {},
     "output_type": "execute_result"
    }
   ],
   "source": [
    "# Function overloading, sort of\n",
    "defmodule Demo do\n",
    "    def hello(), do: IO.puts(\"Hello, world!\")       # This is hello/0\n",
    "    def hello(name), do: IO.puts(\"Hello, #{name}!\") # This is hello/1\n",
    "end\n",
    "Demo.hello(\"old buddy\")"
   ]
  },
  {
   "cell_type": "code",
   "execution_count": 13,
   "id": "fe3d2221",
   "metadata": {},
   "outputs": [
    {
     "data": {
      "text/plain": [
       "#PID<0.193.0>"
      ]
     },
     "execution_count": 13,
     "metadata": {},
     "output_type": "execute_result"
    },
    {
     "name": "stdout",
     "output_type": "stream",
     "text": [
      "[#PID<0.193.0>] Hello, world!\n"
     ]
    }
   ],
   "source": [
    "# Processes\n",
    "defmodule Procs do\n",
    "    def spawn_hello() do\n",
    "        spawn(\n",
    "            fn ->\n",
    "                my_pid = self()\n",
    "                IO.puts(\"[#{inspect my_pid}] Hello, world!\")\n",
    "            end\n",
    "        )\n",
    "    end\n",
    "end\n",
    "Procs.spawn_hello()"
   ]
  },
  {
   "cell_type": "code",
   "execution_count": 14,
   "id": "a7895fc2",
   "metadata": {},
   "outputs": [
    {
     "data": {
      "text/plain": [
       "#PID<0.171.0>"
      ]
     },
     "execution_count": 14,
     "metadata": {},
     "output_type": "execute_result"
    }
   ],
   "source": [
    "self()"
   ]
  },
  {
   "cell_type": "code",
   "execution_count": 15,
   "id": "7082cbb9",
   "metadata": {},
   "outputs": [
    {
     "name": "stdout",
     "output_type": "stream",
     "text": [
      "Got msg :hi, source: {:from, #PID<0.194.0>}\n"
     ]
    },
    {
     "data": {
      "text/plain": [
       ":ok"
      ]
     },
     "execution_count": 15,
     "metadata": {},
     "output_type": "execute_result"
    }
   ],
   "source": [
    "# Send myself a message from a process\n",
    "me = self()\n",
    "spawn(fn -> send(me, {:msg, :hi, {:from, self()}}) end)\n",
    "receive do\n",
    "    {:msg, data, source} -> IO.puts(\"Got msg #{inspect data}, source: #{inspect source}\")\n",
    "    after 1_000 -> :timeout\n",
    "end"
   ]
  },
  {
   "cell_type": "code",
   "execution_count": 16,
   "id": "725332a5",
   "metadata": {},
   "outputs": [
    {
     "data": {
      "text/plain": [
       ":timeout"
      ]
     },
     "execution_count": 16,
     "metadata": {},
     "output_type": "execute_result"
    }
   ],
   "source": [
    "# Time out\n",
    "receive do\n",
    "    {:msg, data, source} -> IO.puts(\"Got msg #{inspect data}, source: #{inspect source}\")\n",
    "    after 1_000 -> :timeout\n",
    "end"
   ]
  },
  {
   "cell_type": "code",
   "execution_count": 17,
   "id": "f8ee7b2d",
   "metadata": {},
   "outputs": [
    {
     "name": "stdout",
     "output_type": "stream",
     "text": [
      "h: 1, t: [2, 3, 4, 5]\n",
      "h: 1, t: []\n"
     ]
    },
    {
     "data": {
      "text/plain": [
       ":ok"
      ]
     },
     "execution_count": 17,
     "metadata": {},
     "output_type": "execute_result"
    }
   ],
   "source": [
    "# Pattern match a list\n",
    "[h|t] = [1, 2, 3, 4, 5]\n",
    "IO.puts(\"h: #{h}, t: #{inspect t}\")\n",
    "[h|t] = [1]\n",
    "IO.puts(\"h: #{h}, t: #{inspect t}\")"
   ]
  },
  {
   "cell_type": "code",
   "execution_count": 17,
   "id": "3b879989",
   "metadata": {},
   "outputs": [
    {
     "ename": "error",
     "evalue": "no match of right hand side value: []",
     "output_type": "error",
     "traceback": [
      "** (MatchError) no match of right hand side value: []"
     ]
    }
   ],
   "source": [
    "# What happens if...?\n",
    "[h|t] = []"
   ]
  },
  {
   "cell_type": "code",
   "execution_count": 18,
   "id": "36a661cd",
   "metadata": {},
   "outputs": [
    {
     "data": {
      "text/plain": [
       "[1, 2, 3, 4, 5]"
      ]
     },
     "execution_count": 18,
     "metadata": {},
     "output_type": "execute_result"
    }
   ],
   "source": [
    "# Append two lists\n",
    "[1, 2] ++ [3, 4, 5]"
   ]
  },
  {
   "cell_type": "code",
   "execution_count": 19,
   "id": "216451b2",
   "metadata": {},
   "outputs": [
    {
     "data": {
      "text/plain": [
       "[1, 2, 3, 4]"
      ]
     },
     "execution_count": 19,
     "metadata": {},
     "output_type": "execute_result"
    }
   ],
   "source": [
    "# Push a value onto the head of a list\n",
    "new_head = 1\n",
    "list = [2, 3, 4]\n",
    "new_list = [new_head | list]"
   ]
  },
  {
   "cell_type": "code",
   "execution_count": 20,
   "id": "8aa5abc9",
   "metadata": {},
   "outputs": [
    {
     "name": "stdout",
     "output_type": "stream",
     "text": [
      "Head: 1, tail: [2, 3, 4]\n"
     ]
    },
    {
     "data": {
      "text/plain": [
       ":ok"
      ]
     },
     "execution_count": 20,
     "metadata": {},
     "output_type": "execute_result"
    }
   ],
   "source": [
    "# Alternative way to split up a list\n",
    "l = [1, 2, 3, 4]\n",
    "h = hd(l)\n",
    "t = tl(l)\n",
    "IO.puts(\"Head: #{h}, tail: #{inspect t}\")"
   ]
  },
  {
   "cell_type": "markdown",
   "id": "fcb92369",
   "metadata": {},
   "source": [
    "### Recursion"
   ]
  },
  {
   "cell_type": "code",
   "execution_count": 21,
   "id": "d04430a4",
   "metadata": {},
   "outputs": [
    {
     "data": {
      "text/plain": [
       "[5, 4, 3, 2, 1]"
      ]
     },
     "execution_count": 21,
     "metadata": {},
     "output_type": "execute_result"
    }
   ],
   "source": [
    "# Reverse a list\n",
    "defmodule MyList do\n",
    "    # Non-tail-recursive version\n",
    "    def reverse([h|t]), do: reverse(t) ++ [h]\n",
    "    def reverse([]), do: []\n",
    "        \n",
    "    # Tail-recursive version\n",
    "    def reverse_t([h|t], acc \\\\ []), do: reverse_t(t, [h|acc])\n",
    "    def reverse_t([], acc), do: acc\n",
    "end\n",
    "\n",
    "list = [1, 2, 3, 4, 5]\n",
    "list_rev = MyList.reverse(list)\n",
    "list_rev_t = MyList.reverse_t(list)\n",
    "^list_rev = list_rev_t # Force pattern-match"
   ]
  },
  {
   "cell_type": "markdown",
   "id": "745543ba",
   "metadata": {},
   "source": [
    "## Higher-order Functions"
   ]
  },
  {
   "cell_type": "code",
   "execution_count": 22,
   "id": "8afe34ad",
   "metadata": {},
   "outputs": [
    {
     "data": {
      "text/plain": [
       "[2, 4, 6, 8, 10]"
      ]
     },
     "execution_count": 22,
     "metadata": {},
     "output_type": "execute_result"
    }
   ],
   "source": [
    "Enum.map(1..5, fn x -> x * 2 end)"
   ]
  },
  {
   "cell_type": "code",
   "execution_count": 23,
   "id": "88a7b975",
   "metadata": {},
   "outputs": [
    {
     "data": {
      "text/plain": [
       "[2, 4, 6, 8, 10]"
      ]
     },
     "execution_count": 23,
     "metadata": {},
     "output_type": "execute_result"
    }
   ],
   "source": [
    "Enum.map(1..5, &(&1 * 2)) # using function capture"
   ]
  },
  {
   "cell_type": "code",
   "execution_count": 24,
   "id": "5bb5b45b",
   "metadata": {},
   "outputs": [
    {
     "data": {
      "text/plain": [
       "[{1, 0}, {2, 1}, {3, 2}, {4, 3}, {5, 4}]"
      ]
     },
     "execution_count": 24,
     "metadata": {},
     "output_type": "execute_result"
    }
   ],
   "source": [
    "Enum.with_index(1..5)"
   ]
  },
  {
   "cell_type": "code",
   "execution_count": 25,
   "id": "6a837d1c",
   "metadata": {},
   "outputs": [
    {
     "data": {
      "text/plain": [
       "[{1, 0}, {2, 1}, {3, 2}, {4, 3}, {5, 4}]"
      ]
     },
     "execution_count": 25,
     "metadata": {},
     "output_type": "execute_result"
    }
   ],
   "source": [
    "# Introduce the pipe operator\n",
    "1..5 |> Enum.with_index"
   ]
  },
  {
   "cell_type": "code",
   "execution_count": 26,
   "id": "d017b8a6",
   "metadata": {},
   "outputs": [
    {
     "name": "stdout",
     "output_type": "stream",
     "text": [
      "[\"the\", \"quick\", \"brown\", \"fox\"]\n",
      "[\"The\", \"Quick\", \"Brown\", \"Fox\"]\n"
     ]
    },
    {
     "data": {
      "text/plain": [
       "\"TheQuickBrownFox\""
      ]
     },
     "execution_count": 26,
     "metadata": {},
     "output_type": "execute_result"
    }
   ],
   "source": [
    "\"the quick brown fox\"\n",
    "|> String.split\n",
    "|> IO.inspect\n",
    "|> Enum.map(&String.capitalize/1)\n",
    "|> IO.inspect\n",
    "|> Enum.join(\"\")"
   ]
  },
  {
   "cell_type": "code",
   "execution_count": 27,
   "id": "963e3510",
   "metadata": {},
   "outputs": [
    {
     "data": {
      "text/plain": [
       "\"The Quick Brown Fox\""
      ]
     },
     "execution_count": 27,
     "metadata": {},
     "output_type": "execute_result"
    }
   ],
   "source": [
    "# What it would look like without using the pipe operator\n",
    "Enum.join(Enum.map(String.split(\"the quick brown fox\"), &String.capitalize/1), \" \")"
   ]
  },
  {
   "cell_type": "code",
   "execution_count": 28,
   "id": "ad8a5719",
   "metadata": {},
   "outputs": [
    {
     "data": {
      "text/plain": [
       "1040"
      ]
     },
     "execution_count": 28,
     "metadata": {},
     "output_type": "execute_result"
    }
   ],
   "source": [
    "# Sum of products of 2-tuples\n",
    "defmodule Demo do\n",
    "    def sum_prod_tuples(tuples) do\n",
    "        tuples\n",
    "        |> Enum.reduce(0, fn {x, y}, acc -> acc + x * y end)\n",
    "    end\n",
    "end\n",
    "101..105 |> Enum.with_index |> Demo.sum_prod_tuples"
   ]
  },
  {
   "cell_type": "code",
   "execution_count": 29,
   "id": "b3481d2b",
   "metadata": {},
   "outputs": [
    {
     "name": "stdout",
     "output_type": "stream",
     "text": [
      "0: 101\n",
      "1: 102\n",
      "2: 103\n",
      "3: 104\n",
      "4: 105\n"
     ]
    },
    {
     "data": {
      "text/plain": [
       ":ok"
      ]
     },
     "execution_count": 29,
     "metadata": {},
     "output_type": "execute_result"
    }
   ],
   "source": [
    "101..105 |> Enum.with_index |> Enum.each(fn {n, ndx} -> IO.puts(\"#{ndx}: #{n}\") end)"
   ]
  },
  {
   "cell_type": "code",
   "execution_count": 30,
   "id": "b4c0c6e9",
   "metadata": {},
   "outputs": [
    {
     "data": {
      "text/plain": [
       "8"
      ]
     },
     "execution_count": 30,
     "metadata": {},
     "output_type": "execute_result"
    }
   ],
   "source": [
    "Integer.pow(2, 3)"
   ]
  },
  {
   "cell_type": "code",
   "execution_count": 31,
   "id": "14482ee0",
   "metadata": {},
   "outputs": [
    {
     "data": {
      "text/plain": [
       "[digits: 1, digits: 2, extended_gcd: 2, floor_div: 2, gcd: 2, mod: 2, parse: 1, parse: 2, pow: 2, to_char_list: 1, to_char_list: 2, to_charlist: 1, to_charlist: 2, to_string: 1, to_string: 2, undigits: 1, undigits: 2]"
      ]
     },
     "execution_count": 31,
     "metadata": {},
     "output_type": "execute_result"
    }
   ],
   "source": [
    "Integer.__info__(:functions)"
   ]
  },
  {
   "cell_type": "markdown",
   "id": "cc17e522",
   "metadata": {},
   "source": [
    "## Interoperability with Erlang\n",
    "Let's call Erlang's `application` module to get a list of all running applications."
   ]
  },
  {
   "cell_type": "code",
   "execution_count": 32,
   "id": "58160c1a",
   "metadata": {},
   "outputs": [
    {
     "data": {
      "text/plain": [
       "[{:ierl, 'ierl', '0.6.0'}, {:ex_unit, 'ex_unit', '1.12.3'}, {:logger, 'logger', '1.12.3'}, {:mix, 'mix', '1.12.3'}, {:iex, 'iex', '1.12.3'}, {:lfe, 'Lisp Flavored Erlang (LFE)', '2.0.1'}, {:getopt, 'Command-line options parser for Erlang', '1.0.2'}, {:jupyter, 'jupyter', '0.5.0'}, {:jsx, 'a streaming, evented json parsing toolkit', '3.1.0'}, {:uuid, 'Native UUID Generation', '2.0.1'}, {:quickrand, 'Quick Random Number Generation', '2.0.1'}, {:crypto, 'CRYPTO', '5.0.6'}, {:gproc, 'Extended process registry for Erlang', '0.9.0'}, {:chumak, 'Erlang implementation of ZeroMQ Transport Protocol (ZMTP)', '1.3.0'}, {:iso8601, 'An ISO 8601 date formating and parsing library for Erlang', '1.3.2'}, {:elixir, 'elixir', '1.12.3'}, {:compiler, 'ERTS  CXC 138 10', '8.1.1'}, {:stdlib, 'ERTS  CXC 138 10', '3.17.2'}, {:kernel, 'ERTS  CXC 138 10', '8.3.2'}]"
      ]
     },
     "execution_count": 32,
     "metadata": {},
     "output_type": "execute_result"
    }
   ],
   "source": [
    ":application.which_applications()"
   ]
  },
  {
   "cell_type": "code",
   "execution_count": 33,
   "id": "14049a8e",
   "metadata": {},
   "outputs": [
    {
     "data": {
      "text/plain": [
       "['ierl', 'ex_unit', 'logger', 'mix', 'iex', 'Lisp Flavored Erlang (LFE)', 'Command-line options parser for Erlang', 'jupyter', 'a streaming, evented json parsing toolkit', 'Native UUID Generation', 'Quick Random Number Generation', 'CRYPTO', 'Extended process registry for Erlang', 'Erlang implementation of ZeroMQ Transport Protocol (ZMTP)', 'An ISO 8601 date formating and parsing library for Erlang', 'elixir', 'ERTS  CXC 138 10', 'ERTS  CXC 138 10', 'ERTS  CXC 138 10']"
      ]
     },
     "execution_count": 33,
     "metadata": {},
     "output_type": "execute_result"
    }
   ],
   "source": [
    "# Let's just get the descriptions using a list comprehension\n",
    "for {_, desc, _} <- :application.which_applications(), do: desc"
   ]
  },
  {
   "cell_type": "markdown",
   "id": "93da0f99",
   "metadata": {},
   "source": [
    "## Dictionaries (Maps)"
   ]
  },
  {
   "cell_type": "code",
   "execution_count": 34,
   "id": "857b04b8",
   "metadata": {},
   "outputs": [
    {
     "data": {
      "text/plain": [
       "%{\"count\" => 10, \"sum\" => 55}"
      ]
     },
     "execution_count": 34,
     "metadata": {},
     "output_type": "execute_result"
    }
   ],
   "source": [
    "## In Elixir, dictionaries are called \"maps\" and map literals use the format '%{}' \n",
    "map1 = %{\"count\" => 10, \"sum\" => 55}"
   ]
  },
  {
   "cell_type": "code",
   "execution_count": 35,
   "id": "e451f0b3",
   "metadata": {},
   "outputs": [
    {
     "data": {
      "text/plain": [
       "%{count: 10, sum: 55}"
      ]
     },
     "execution_count": 35,
     "metadata": {},
     "output_type": "execute_result"
    }
   ],
   "source": [
    "## Map keys can be atoms\n",
    "map2 = %{:count => 10, :sum => 55}"
   ]
  },
  {
   "cell_type": "code",
   "execution_count": 36,
   "id": "7c19446f",
   "metadata": {},
   "outputs": [
    {
     "data": {
      "text/plain": [
       "%{count: 10, sum: 55}"
      ]
     },
     "execution_count": 36,
     "metadata": {},
     "output_type": "execute_result"
    }
   ],
   "source": [
    "## If map keys are all atoms, the syntax becomes simpler\n",
    "map3 = %{count: 10, sum: 55}"
   ]
  },
  {
   "cell_type": "code",
   "execution_count": 37,
   "id": "cd745968",
   "metadata": {},
   "outputs": [
    {
     "data": {
      "text/plain": [
       "10"
      ]
     },
     "execution_count": 37,
     "metadata": {},
     "output_type": "execute_result"
    }
   ],
   "source": [
    "## Get a value from a map\n",
    "map3[:count]  # Or also map3.count, which raises an exception if the key is absent."
   ]
  },
  {
   "cell_type": "code",
   "execution_count": 38,
   "id": "59d22102",
   "metadata": {},
   "outputs": [
    {
     "data": {
      "text/plain": [
       "%{count: 11, sum: 55}"
      ]
     },
     "execution_count": 38,
     "metadata": {},
     "output_type": "execute_result"
    }
   ],
   "source": [
    "## Make a new map with the count incremented (remember, data is immutable)\n",
    "map4 = %{map3 | count: map3.count + 1}"
   ]
  },
  {
   "cell_type": "code",
   "execution_count": 39,
   "id": "b28c9932",
   "metadata": {},
   "outputs": [
    {
     "data": {
      "text/plain": [
       "%{count: 10, sum: 55}"
      ]
     },
     "execution_count": 39,
     "metadata": {},
     "output_type": "execute_result"
    }
   ],
   "source": [
    "## But map3 hasn't changed\n",
    "map3"
   ]
  },
  {
   "cell_type": "code",
   "execution_count": 39,
   "id": "4eee6300",
   "metadata": {},
   "outputs": [
    {
     "ename": "error",
     "evalue": "nofile:2: cannot invoke remote function map3.count/0 inside a match",
     "output_type": "error",
     "traceback": [
      "** (CompileError) nofile:2: cannot invoke remote function map3.count/0 inside a match"
     ]
    }
   ],
   "source": [
    "## You can't assign like this\n",
    "map3.count = 22"
   ]
  },
  {
   "cell_type": "code",
   "execution_count": 40,
   "id": "5ca2c4cf",
   "metadata": {},
   "outputs": [
    {
     "data": {
      "text/plain": [
       "[:count, :sum]"
      ]
     },
     "execution_count": 40,
     "metadata": {},
     "output_type": "execute_result"
    }
   ],
   "source": [
    "Map.keys(map4)"
   ]
  },
  {
   "cell_type": "code",
   "execution_count": 41,
   "id": "e2c7498b",
   "metadata": {},
   "outputs": [
    {
     "data": {
      "text/plain": [
       "[\"two\", \"four\"]"
      ]
     },
     "execution_count": 41,
     "metadata": {},
     "output_type": "execute_result"
    }
   ],
   "source": [
    "Map.values(%{one: \"two\", three: \"four\"})"
   ]
  },
  {
   "cell_type": "code",
   "execution_count": 42,
   "id": "c3bd4135",
   "metadata": {},
   "outputs": [
    {
     "data": {
      "text/plain": [
       "[count: 11, sum: 55]"
      ]
     },
     "execution_count": 42,
     "metadata": {},
     "output_type": "execute_result"
    }
   ],
   "source": [
    "Map.to_list(map4)"
   ]
  },
  {
   "cell_type": "code",
   "execution_count": 43,
   "id": "29823084",
   "metadata": {},
   "outputs": [
    {
     "data": {
      "text/plain": [
       "[count: 11, sum: 55]"
      ]
     },
     "execution_count": 43,
     "metadata": {},
     "output_type": "execute_result"
    }
   ],
   "source": [
    "[{:count, 11}, {:sum, 55}] = [count: 11, sum: 55]  # Same things"
   ]
  },
  {
   "cell_type": "code",
   "execution_count": 44,
   "id": "cad8d3d1",
   "metadata": {},
   "outputs": [
    {
     "name": "stdout",
     "output_type": "stream",
     "text": [
      "k: count, v: 11\n",
      "k: sum, v: 55\n"
     ]
    },
    {
     "data": {
      "text/plain": [
       ":ok"
      ]
     },
     "execution_count": 44,
     "metadata": {},
     "output_type": "execute_result"
    }
   ],
   "source": [
    "# Iterate over a map using either a comprehension or Enum\n",
    "Enum.each(map4, fn {k, v} -> IO.puts(\"k: #{k}, v: #{v}\") end)"
   ]
  },
  {
   "cell_type": "code",
   "execution_count": 45,
   "id": "548d759b",
   "metadata": {},
   "outputs": [
    {
     "name": "stdout",
     "output_type": "stream",
     "text": [
      "k: count, v: 11\n",
      "k: sum, v: 55\n"
     ]
    },
    {
     "data": {
      "text/plain": [
       "[:ok, :ok]"
      ]
     },
     "execution_count": 45,
     "metadata": {},
     "output_type": "execute_result"
    }
   ],
   "source": [
    "# Using a comprehension\n",
    "for {k, v} <- map4, do: IO.puts(\"k: #{k}, v: #{v}\")"
   ]
  },
  {
   "cell_type": "markdown",
   "id": "969c103d",
   "metadata": {},
   "source": [
    "## Keyword lists"
   ]
  },
  {
   "cell_type": "code",
   "execution_count": 46,
   "id": "28a0af00",
   "metadata": {},
   "outputs": [
    {
     "data": {
      "text/plain": [
       "{:module, KW, <<70, 79, 82, 49, 0, 0, 7, 240, 66, 69, 65, 77, 65, 116, 85, 56, 0, 0, 0, 225, 0, 0, 0, 27, 9, 69, 108, 105, 120, 105, 114, 46, 75, 87, 8, 95, 95, 105, 110, 102, 111, 95, 95, 10, 97, 116, 116, ...>>, {:combine, 2}}"
      ]
     },
     "execution_count": 46,
     "metadata": {},
     "output_type": "execute_result"
    }
   ],
   "source": [
    "defmodule KW do\n",
    "    def combine(a_list, opts \\\\ []) when is_list(a_list) do\n",
    "        case opts[:op] do\n",
    "            :sum ->\n",
    "                {:ok, Enum.sum(a_list)}\n",
    "            :prod ->\n",
    "                {:ok, List.foldl(a_list, 1, &(&1 * &2))}\n",
    "            op when op in [:max, nil] ->\n",
    "                {:ok, Enum.max(a_list)}\n",
    "            op ->\n",
    "                {:error, {:invalid_opt, op}}\n",
    "        end\n",
    "    end\n",
    "end"
   ]
  },
  {
   "cell_type": "code",
   "execution_count": 47,
   "id": "2623e87c",
   "metadata": {},
   "outputs": [
    {
     "data": {
      "text/plain": [
       "{:ok, 10}"
      ]
     },
     "execution_count": 47,
     "metadata": {},
     "output_type": "execute_result"
    }
   ],
   "source": [
    "KW.combine(Enum.to_list(1..10))"
   ]
  },
  {
   "cell_type": "code",
   "execution_count": 48,
   "id": "2546230e",
   "metadata": {},
   "outputs": [
    {
     "data": {
      "text/plain": [
       "{:ok, 55}"
      ]
     },
     "execution_count": 48,
     "metadata": {},
     "output_type": "execute_result"
    }
   ],
   "source": [
    "KW.combine(Enum.to_list(1..10), op: :sum)"
   ]
  },
  {
   "cell_type": "code",
   "execution_count": 49,
   "id": "c0a78aaa",
   "metadata": {},
   "outputs": [
    {
     "data": {
      "text/plain": [
       "{:ok, 3628800}"
      ]
     },
     "execution_count": 49,
     "metadata": {},
     "output_type": "execute_result"
    }
   ],
   "source": [
    "KW.combine(Enum.to_list(1..10), op: :prod)"
   ]
  },
  {
   "cell_type": "code",
   "execution_count": 50,
   "id": "79f71333",
   "metadata": {},
   "outputs": [
    {
     "data": {
      "text/plain": [
       "{:error, {:invalid_opt, :foo}}"
      ]
     },
     "execution_count": 50,
     "metadata": {},
     "output_type": "execute_result"
    }
   ],
   "source": [
    "KW.combine(Enum.to_list(1..10), op: :foo)"
   ]
  },
  {
   "cell_type": "code",
   "execution_count": 50,
   "id": "ed28fc2a",
   "metadata": {},
   "outputs": [
    {
     "ename": "error",
     "evalue": "no match of right hand side value: {:error, {:invalid_opt, :foo}}",
     "output_type": "error",
     "traceback": [
      "** (MatchError) no match of right hand side value: {:error, {:invalid_opt, :foo}}"
     ]
    }
   ],
   "source": [
    "{:ok, result} = KW.combine(Enum.to_list(1..10), op: :foo)"
   ]
  },
  {
   "cell_type": "markdown",
   "id": "bb29c31f",
   "metadata": {},
   "source": [
    "## GenServer"
   ]
  },
  {
   "cell_type": "code",
   "execution_count": 51,
   "id": "6270e208",
   "metadata": {},
   "outputs": [
    {
     "data": {
      "text/plain": [
       "{:module, Stack, <<70, 79, 82, 49, 0, 0, 16, 152, 66, 69, 65, 77, 65, 116, 85, 56, 0, 0, 1, 131, 0, 0, 0, 43, 12, 69, 108, 105, 120, 105, 114, 46, 83, 116, 97, 99, 107, 8, 95, 95, 105, 110, 102, 111, 95, 95, 10, ...>>, {:handle_cast, 2}}"
      ]
     },
     "execution_count": 51,
     "metadata": {},
     "output_type": "execute_result"
    }
   ],
   "source": [
    "defmodule Stack do\n",
    "    use GenServer\n",
    "    # API\n",
    "    def push(pid, x), do: GenServer.cast(pid, {:push, x})\n",
    "    def pop(pid), do: GenServer.call(pid, :pop)\n",
    "    def empty?(pid), do: GenServer.call(pid, :is_empty)\n",
    "\n",
    "    @impl true\n",
    "    def init(stack), do: {:ok, stack}\n",
    "    @impl true\n",
    "    def handle_call(:pop, _from, [top|new_state]), do: {:reply, {:ok, top}, new_state}\n",
    "    def handle_call(:pop, _from, []=state), do: {:reply, {:error, :stack_empty}, state}\n",
    "    def handle_call(:is_empty, _from, state), do: {:reply, {:ok, state == []}, state}\n",
    "    @impl true\n",
    "    def handle_cast({:push, value}, state), do: {:noreply, [value|state]}\n",
    "end"
   ]
  },
  {
   "cell_type": "code",
   "execution_count": 52,
   "id": "a152ebaa",
   "metadata": {},
   "outputs": [
    {
     "data": {
      "text/plain": [
       "{:ok, #PID<0.207.0>}"
      ]
     },
     "execution_count": 52,
     "metadata": {},
     "output_type": "execute_result"
    }
   ],
   "source": [
    "{:ok, pid} = GenServer.start_link(Stack, [])"
   ]
  },
  {
   "cell_type": "code",
   "execution_count": 53,
   "id": "ae7381ad",
   "metadata": {},
   "outputs": [
    {
     "data": {
      "text/plain": [
       ":ok"
      ]
     },
     "execution_count": 53,
     "metadata": {},
     "output_type": "execute_result"
    }
   ],
   "source": [
    "Stack.push(pid, 10)"
   ]
  },
  {
   "cell_type": "code",
   "execution_count": 54,
   "id": "a495f66e",
   "metadata": {},
   "outputs": [
    {
     "data": {
      "text/plain": [
       ":ok"
      ]
     },
     "execution_count": 54,
     "metadata": {},
     "output_type": "execute_result"
    }
   ],
   "source": [
    "Stack.push(pid, :hello)"
   ]
  },
  {
   "cell_type": "code",
   "execution_count": 55,
   "id": "65b6a54d",
   "metadata": {},
   "outputs": [
    {
     "data": {
      "text/plain": [
       "true"
      ]
     },
     "execution_count": 55,
     "metadata": {},
     "output_type": "execute_result"
    }
   ],
   "source": [
    "Process.alive?(pid)"
   ]
  },
  {
   "cell_type": "code",
   "execution_count": 56,
   "id": "1869ae0c",
   "metadata": {},
   "outputs": [
    {
     "data": {
      "text/plain": [
       "{:ok, :hello}"
      ]
     },
     "execution_count": 56,
     "metadata": {},
     "output_type": "execute_result"
    }
   ],
   "source": [
    "Stack.pop(pid)"
   ]
  },
  {
   "cell_type": "code",
   "execution_count": 57,
   "id": "4cd03093",
   "metadata": {},
   "outputs": [
    {
     "data": {
      "text/plain": [
       "{:ok, 10}"
      ]
     },
     "execution_count": 57,
     "metadata": {},
     "output_type": "execute_result"
    }
   ],
   "source": [
    "Stack.pop(pid)"
   ]
  },
  {
   "cell_type": "code",
   "execution_count": 58,
   "id": "542b8a7c",
   "metadata": {},
   "outputs": [
    {
     "data": {
      "text/plain": [
       "{:error, :stack_empty}"
      ]
     },
     "execution_count": 58,
     "metadata": {},
     "output_type": "execute_result"
    }
   ],
   "source": [
    "Stack.pop(pid)"
   ]
  },
  {
   "cell_type": "code",
   "execution_count": 59,
   "id": "a929ec96",
   "metadata": {},
   "outputs": [
    {
     "data": {
      "text/plain": [
       ":ok"
      ]
     },
     "execution_count": 59,
     "metadata": {},
     "output_type": "execute_result"
    }
   ],
   "source": [
    "GenServer.stop(pid)"
   ]
  },
  {
   "cell_type": "code",
   "execution_count": 60,
   "id": "f6280967",
   "metadata": {},
   "outputs": [
    {
     "data": {
      "text/plain": [
       "false"
      ]
     },
     "execution_count": 60,
     "metadata": {},
     "output_type": "execute_result"
    }
   ],
   "source": [
    "Process.alive?(pid)"
   ]
  },
  {
   "cell_type": "markdown",
   "id": "d4a250fc",
   "metadata": {},
   "source": [
    "## Links\n",
    "* [Why Elixir & Phoenix is a great choice for your web app in 2022](https://curiosum.com/blog/why-elixir-phoenix-great-choice-for-modern-web-app)\n",
    "* [5 million concurrent users in Elixir](https://blog.discord.com/scaling-elixir-f9b8e1e7c29b)\n",
    "* [How We Replaced React with Phoenix](https://thoughtbot.com/blog/how-we-replaced-react-with-phoenix)"
   ]
  },
  {
   "cell_type": "markdown",
   "id": "f3ba5e27",
   "metadata": {},
   "source": [
    "## Appendix: A million concurrent processes? Really?\n",
    "It depends on the number of processes the Erlang kernel is configured to run. By default it is set to a maximum of 262144 processes, but it can be changed at startup to well in excess of 100 million (which I doubt has ever been reached, but you never know). So this Jupyter Notebook erlang kernel will only manage something in the neighborhood of 250K processes because I haven't figured out how to get to the startup parameters."
   ]
  },
  {
   "cell_type": "code",
   "execution_count": 61,
   "id": "e48e867d",
   "metadata": {},
   "outputs": [
    {
     "name": "stdout",
     "output_type": "stream",
     "text": [
      "Started 250000 processes in 2.798028 micros each\n",
      "Sent 250000 stop messages in 1.532424 micros each\n",
      "Received 250000 shutdown messages in 0.515564 micros each\n",
      "Number of processes: 250000\n"
     ]
    },
    {
     "data": {
      "text/plain": [
       ":ok"
      ]
     },
     "execution_count": 61,
     "metadata": {},
     "output_type": "execute_result"
    }
   ],
   "source": [
    "defmodule HighConcurrency do\n",
    "    def run(num_procs) do\n",
    "        parent = self()\n",
    "        {elapsed, pids} = :timer.tc(fn -> spawn_procs(num_procs, parent) end)\n",
    "        IO.puts(\"Started #{num_procs} processes in #{elapsed / num_procs} micros each\")\n",
    "        {elapsed, :ok} = :timer.tc(fn -> stop_procs(pids) end)\n",
    "        len = length(pids)\n",
    "        IO.puts(\"Sent #{len} stop messages in #{elapsed / len} micros each\")\n",
    "        {elapsed, count} = :timer.tc(&receive_loop/0)\n",
    "        IO.puts(\"Received #{count} shutdown messages in #{elapsed / count} micros each\")\n",
    "        \n",
    "        count\n",
    "    end\n",
    "\n",
    "    def spawn_procs(num_procs, parent) do\n",
    "        for proc_num <- 1..num_procs do\n",
    "            spawn(fn -> wait_for_stop(parent, proc_num) end)\n",
    "        end\n",
    "    end\n",
    "\n",
    "    def wait_for_stop(parent, proc_num) do\n",
    "        receive do\n",
    "            :stop -> send(parent, {:stopped, proc_num})\n",
    "            after 5_000 -> {:error, :timeout}\n",
    "        end\n",
    "    end\n",
    "        \n",
    "    def stop_procs(pids) do\n",
    "        Enum.each(pids, fn pid -> send(pid, :stop) end)\n",
    "    end\n",
    "\n",
    "    def receive_loop(acc \\\\ 0) do\n",
    "        receive do\n",
    "            {:stopped, _proc_num} ->\n",
    "                receive_loop(acc + 1)\n",
    "            _ ->\n",
    "                receive_loop(acc)\n",
    "        after 10 ->\n",
    "            acc\n",
    "        end\n",
    "    end\n",
    "\n",
    "end\n",
    "\n",
    "IO.puts(\"Number of processes: #{inspect HighConcurrency.run(250000)}\")"
   ]
  },
  {
   "cell_type": "markdown",
   "id": "bca6875f",
   "metadata": {},
   "source": [
    "### Running this in IEx with max processes set to 2 million"
   ]
  },
  {
   "cell_type": "markdown",
   "id": "573a81de",
   "metadata": {},
   "source": [
    "~~~\n",
    "IO.puts(\"Number of processes: #{inspect HighConcurrency.run(1000000)}\")\n",
    "Started 1000000 processes in 2.145148 micros each\n",
    "Sent 1000000 stop messages in 1.477605 micros each\n",
    "Received 1000000 shutdown messages in 0.462585 micros each\n",
    "Number of processes: 1000000\n",
    "~~~"
   ]
  },
  {
   "cell_type": "code",
   "execution_count": null,
   "id": "0a5ec120",
   "metadata": {},
   "outputs": [],
   "source": []
  }
 ],
 "metadata": {
  "kernelspec": {
   "display_name": "elixir (elixir)",
   "language": "elixir",
   "name": "elixir"
  },
  "language_info": {
   "codemirror_mode": "ruby",
   "file_extension": ".ex",
   "name": "elixir",
   "version": "1.12.3"
  }
 },
 "nbformat": 4,
 "nbformat_minor": 5
}
